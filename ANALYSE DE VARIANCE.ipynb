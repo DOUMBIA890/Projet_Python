{
 "cells": [
  {
   "cell_type": "markdown",
   "id": "f2dd6bad-6f0e-4de5-b2b5-7fe01fa69ecc",
   "metadata": {},
   "source": [
    "# 1. Génération des données simulées\n",
    "Nous allons créer un jeu de données avec :\n",
    "\n",
    "3 groupes d'engrais (A, B, C),\n",
    "\n",
    "La croissance des plantes (growth),\n",
    "\n",
    "L'ensoleillement (sunlight), une covariable,\n",
    "\n",
    "Deux variables dépendantes pour MANOVA/MANCOVA (growth et leaf_area),\n",
    "\n",
    "Le pH du sol (soil_pH), une covariable pour MANCOVA."
   ]
  },
  {
   "cell_type": "code",
   "execution_count": 1,
   "id": "4395c18f-c396-40f2-b00c-b38d57bf0512",
   "metadata": {},
   "outputs": [
    {
     "name": "stdout",
     "output_type": "stream",
     "text": [
      "  Fertilizer  Sunlight   Soil_pH    Growth  Leaf_Area\n",
      "0          A  5.745071  5.827245  0.953764   2.744800\n",
      "1          A  4.792604  5.158896  2.369788   2.387512\n",
      "2          A  5.971533  5.777456  3.045997   3.928566\n",
      "3          A  7.284545  5.812958  6.105515   4.580799\n",
      "4          A  4.648770  6.824015  2.132024   5.191847\n"
     ]
    }
   ],
   "source": [
    "import pandas as pd\n",
    "import numpy as np\n",
    "import statsmodels.api as sm\n",
    "from statsmodels.multivariate.manova import MANOVA\n",
    "from statsmodels.formula.api import ols\n",
    "import matplotlib.pyplot as plt\n",
    "import seaborn as sns\n",
    "\n",
    "# Configuration pour la reproductibilité\n",
    "np.random.seed(42)\n",
    "\n",
    "# Création des données\n",
    "n = 60  # 20 plantes par groupe\n",
    "data = pd.DataFrame({\n",
    "    'Fertilizer': np.repeat(['A', 'B', 'C'], n//3),\n",
    "    'Sunlight': np.random.normal(5, 1.5, n),  # Ensoleillement moyen\n",
    "    'Soil_pH': np.random.uniform(5.0, 7.5, n)  # pH du sol\n",
    "})\n",
    "\n",
    "# Simulation de la croissance et de la surface foliaire avec des effets aléatoires\n",
    "data['Growth'] = (\n",
    "    2 * (data['Fertilizer'] == 'B') + \n",
    "    4 * (data['Fertilizer'] == 'C') + \n",
    "    0.5 * data['Sunlight'] + \n",
    "    np.random.normal(0, 1, n)\n",
    ")\n",
    "\n",
    "data['Leaf_Area'] = (\n",
    "    3 * (data['Fertilizer'] == 'B') + \n",
    "    6 * (data['Fertilizer'] == 'C') + \n",
    "    0.7 * data['Soil_pH'] + \n",
    "    np.random.normal(0, 1.5, n)\n",
    ")\n",
    "\n",
    "print(data.head())"
   ]
  },
  {
   "cell_type": "markdown",
   "id": "d402a3c3-ae7f-487c-a1bc-e5d7fb952c85",
   "metadata": {},
   "source": [
    "# 2. ANOVA (Comparaison des groupes)\n",
    "Question : L'engrais influence-t-il significativement la croissance des plantes ?"
   ]
  },
  {
   "cell_type": "code",
   "execution_count": 2,
   "id": "8acedd1a-a68e-4ae4-9b13-c17370f08644",
   "metadata": {},
   "outputs": [
    {
     "name": "stdout",
     "output_type": "stream",
     "text": [
      "--- ANOVA ---\n",
      "                    sum_sq    df          F        PR(>F)\n",
      "C(Fertilizer)  183.069726   2.0  60.408354  8.283526e-15\n",
      "Residual        86.370292  57.0        NaN           NaN\n"
     ]
    },
    {
     "data": {
      "image/png": "[encoded data removed]",
      "text/plain": [
       "<Figure size 800x400 with 1 Axes>"
      ]
     },
     "metadata": {},
     "output_type": "display_data"
    }
   ],
   "source": [
    "# ANOVA à un facteur\n",
    "model_anova = ols('Growth ~ C(Fertilizer)', data=data).fit()\n",
    "anova_table = sm.stats.anova_lm(model_anova, typ=2)\n",
    "print(\"--- ANOVA ---\\n\", anova_table)\n",
    "\n",
    "# Visualisation\n",
    "plt.figure(figsize=(8, 4))\n",
    "sns.boxplot(x='Fertilizer', y='Growth', data=data)\n",
    "plt.title(\"Effet de l'engrais sur la croissance (ANOVA)\")\n",
    "plt.show()"
   ]
  },
  {
   "cell_type": "markdown",
   "id": "5b0851fa-8eda-42a0-8e23-d41e967ae4d5",
   "metadata": {},
   "source": [
    "# Interprétation :\n",
    "Effet significatif des engrais :\n",
    "\n",
    "p-value ≈ 8.28e-15 (extrêmement proche de 0), bien < 0.05.\n",
    "\n",
    "Conclusion : Il existe des différences statistiquement significatives entre les moyennes de croissance des plantes selon l'engrais utilisé.\n",
    "\n",
    "Importance de l'effet :\n",
    "\n",
    "F-value = 60.41 : Une valeur F élevée indique que la variance entre les groupes est bien plus grande que la variance au sein des groupes.\n",
    "\n",
    "SS(Fertilizer) = 183.07 vs SS(Residual) = 86.37 : L'engrais explique une grande partie de la variabilité des données.\n",
    "\n"
   ]
  },
  {
   "cell_type": "markdown",
   "id": "1fe97909-f156-4625-aa6b-d9bf0b4b2ef9",
   "metadata": {},
   "source": [
    "# Implications pratiques :\n",
    "Les engrais ont un impact significatif sur la croissance des plantes.\n",
    "\n",
    "Exemple : Dans nos données simulées, l'engrais C montre la croissance la plus élevée."
   ]
  },
  {
   "cell_type": "code",
   "execution_count": 3,
   "id": "0ddc7442-756b-48c2-b447-e7b8ae82fc9a",
   "metadata": {},
   "outputs": [],
   "source": [
    "# Post-hoc tests : Pour identifier quelles paires d'engrais diffèrent significativement."
   ]
  },
  {
   "cell_type": "code",
   "execution_count": 4,
   "id": "18697502-dbc6-494d-9a3a-321c16928141",
   "metadata": {},
   "outputs": [
    {
     "name": "stdout",
     "output_type": "stream",
     "text": [
      "Multiple Comparison of Means - Tukey HSD, FWER=0.05\n",
      "==================================================\n",
      "group1 group2 meandiff p-adj  lower  upper  reject\n",
      "--------------------------------------------------\n",
      "     A      B   1.6477 0.0002  0.711 2.5844   True\n",
      "     A      C   4.2435    0.0 3.3068 5.1802   True\n",
      "     B      C   2.5958    0.0 1.6591 3.5325   True\n",
      "--------------------------------------------------\n"
     ]
    }
   ],
   "source": [
    "from statsmodels.stats.multicomp import pairwise_tukeyhsd\n",
    "tukey = pairwise_tukeyhsd(data['Growth'], data['Fertilizer'])\n",
    "print(tukey.summary())"
   ]
  },
  {
   "cell_type": "markdown",
   "id": "8e0b9963-c418-40a5-8d4c-761bd46ea25b",
   "metadata": {},
   "source": [
    "# 3. ANCOVA (Contrôle de l'ensoleillement)\n",
    "\n",
    "Question : L'effet de l'engrais persiste-t-il après contrôle de l'ensoleillement ?"
   ]
  },
  {
   "cell_type": "code",
   "execution_count": 5,
   "id": "3f271e35-d3d1-4055-a495-26d757deeffb",
   "metadata": {},
   "outputs": [
    {
     "name": "stdout",
     "output_type": "stream",
     "text": [
      "\n",
      "--- ANCOVA ---\n",
      "                    sum_sq    df          F        PR(>F)\n",
      "C(Fertilizer)  171.478077   2.0  82.429468  2.060846e-17\n",
      "Sunlight        28.121873   1.0  27.036354  2.917172e-06\n",
      "Residual        58.248419  56.0        NaN           NaN\n"
     ]
    },
    {
     "data": {
      "image/png": "[encoded data removed]",
      "text/plain": [
       "<Figure size 571.361x500 with 1 Axes>"
      ]
     },
     "metadata": {},
     "output_type": "display_data"
    }
   ],
   "source": [
    "# ANCOVA avec 'Sunlight' comme covariable\n",
    "model_ancova = ols('Growth ~ C(Fertilizer) + Sunlight', data=data).fit()\n",
    "ancova_table = sm.stats.anova_lm(model_ancova, typ=2)\n",
    "print(\"\\n--- ANCOVA ---\\n\", ancova_table)\n",
    "\n",
    "# Visualisation des ajustements\n",
    "sns.lmplot(x='Sunlight', y='Growth', hue='Fertilizer', data=data, ci=None)\n",
    "plt.title(\"Régression ANCOVA par groupe\")\n",
    "plt.show()"
   ]
  },
  {
   "cell_type": "markdown",
   "id": "1e83fd75-33df-4e72-989c-435a01e8cabc",
   "metadata": {},
   "source": [
    "# Interprétation :\n",
    "\n",
    "- Effet de l'engrais (Fertilizer) :\n",
    "\n",
    "p-value ≈ 2.06e-17 (< 0.001) : L'effet des engrais reste très significatif même après contrôle de l'ensoleillement.\n",
    "\n",
    "F-value = 82.43 : Variance entre groupes largement supérieure à la variance résiduelle, confirmant un effet fort.\n",
    "\n",
    "SS(Fertilizer) = 171.48 : L'engrais explique la majorité de la variabilité.\n",
    "\n",
    "- Effet de l'ensoleillement (Sunlight) :\n",
    "\n",
    "p-value ≈ 2.92e-06 (< 0.001) : L'ensoleillement a un effet significatif sur la croissance des plantes.\n",
    "\n",
    "F-value = 27.04 : Effet important de la covariable.\n",
    "\n",
    "SS(Sunlight) = 28.12 : L'ensoleillement explique une partie non négligeable de la variabilité.\n",
    "\n",
    "- Comparaison avec l'ANOVA :\n",
    "\n",
    "SS(Residual) a diminué de 86.37 → 58.25 après inclusion de Sunlight, ce qui montre que la covariable réduit le bruit dans les données.\n",
    "\n",
    "Precision améliorée : En contrôlant l'ensoleillement, l'estimation de l'effet des engrais est plus fiable.\n",
    "\n",
    "- Implications pratiques :\n",
    "  \n",
    "Les engrais B et C ont probablement un meilleur rendement que A, même en ajustant pour l'ensoleillement.\n",
    "\n",
    "L'ensoleillement est un facteur clé à prendre en compte dans les études de croissance des plantes.\n",
    "\n"
   ]
  },
  {
   "cell_type": "code",
   "execution_count": 6,
   "id": "5e37c090-bd22-403c-83a7-7c51621fa594",
   "metadata": {},
   "outputs": [],
   "source": [
    "# Post-hoc ajusté :\n",
    "# Utilisez un test de Tukey en incluant la covariable :"
   ]
  },
  {
   "cell_type": "code",
   "execution_count": 7,
   "id": "86b30553-18fc-418c-88c2-2e9e79e85d08",
   "metadata": {},
   "outputs": [
    {
     "name": "stdout",
     "output_type": "stream",
     "text": [
      "Multiple Comparison of Means - Tukey HSD, FWER=0.05\n",
      "==================================================\n",
      "group1 group2 meandiff p-adj  lower  upper  reject\n",
      "--------------------------------------------------\n",
      "     A      B   1.6477 0.0002  0.711 2.5844   True\n",
      "     A      C   4.2435    0.0 3.3068 5.1802   True\n",
      "     B      C   2.5958    0.0 1.6591 3.5325   True\n",
      "--------------------------------------------------\n"
     ]
    }
   ],
   "source": [
    "from statsmodels.stats.multicomp import pairwise_tukeyhsd\n",
    "tukey_ancova = pairwise_tukeyhsd(data['Growth'], data['Fertilizer'])\n",
    "print(tukey_ancova.summary())"
   ]
  },
  {
   "cell_type": "markdown",
   "id": "c2431971-3c0f-48e2-ac6a-3a5f12b9599f",
   "metadata": {},
   "source": [
    "# 4. MANOVA (Effet sur croissance ET surface foliaire)\n",
    "\n",
    "Question : L'engras affecte-t-il simultanément la croissance et la surface foliaire ?"
   ]
  },
  {
   "cell_type": "code",
   "execution_count": 8,
   "id": "f727ccfb-3190-450e-8e86-0ec2c63e43f5",
   "metadata": {},
   "outputs": [
    {
     "name": "stdout",
     "output_type": "stream",
     "text": [
      "\n",
      "--- MANOVA ---\n",
      "                   Multivariate linear model\n",
      "==============================================================\n",
      "                                                              \n",
      "--------------------------------------------------------------\n",
      "         Intercept        Value  Num DF  Den DF F Value Pr > F\n",
      "--------------------------------------------------------------\n",
      "            Wilks' lambda 0.2350 2.0000 56.0000 91.1526 0.0000\n",
      "           Pillai's trace 0.7650 2.0000 56.0000 91.1526 0.0000\n",
      "   Hotelling-Lawley trace 3.2555 2.0000 56.0000 91.1526 0.0000\n",
      "      Roy's greatest root 3.2555 2.0000 56.0000 91.1526 0.0000\n",
      "--------------------------------------------------------------\n",
      "                                                              \n",
      "--------------------------------------------------------------\n",
      "       Fertilizer       Value  Num DF  Den DF  F Value  Pr > F\n",
      "--------------------------------------------------------------\n",
      "          Wilks' lambda 0.2001 4.0000 112.0000  34.5916 0.0000\n",
      "         Pillai's trace 0.8371 4.0000 114.0000  20.5146 0.0000\n",
      " Hotelling-Lawley trace 3.8112 4.0000  66.1739  53.0546 0.0000\n",
      "    Roy's greatest root 3.7618 2.0000  57.0000 107.2107 0.0000\n",
      "==============================================================\n",
      "\n"
     ]
    }
   ],
   "source": [
    "# MANOVA avec deux variables dépendantes\n",
    "manova = MANOVA.from_formula('Growth + Leaf_Area ~ Fertilizer', data=data)\n",
    "print(\"\\n--- MANOVA ---\\n\", manova.mv_test())"
   ]
  },
  {
   "cell_type": "markdown",
   "id": "07c670f7-c4a8-4cb7-859f-7c5ae29f8cf6",
   "metadata": {},
   "source": [
    "# Structure du tableau MANOVA :\n",
    "\n",
    "Le tableau compare l'effet global du facteur Fertilizer (engrais) sur les deux variables dépendantes (Growth et Leaf_Area) simultanément. Deux parties sont cruciales :\n",
    "\n",
    "Intercept : Teste si les moyennes globales des variables dépendantes sont différentes de zéro (souvent peu pertinent).\n",
    "\n",
    "Fertilizer : Effet principal de l'engrais sur les variables combinées.\n",
    "\n",
    "# Interprétation :\n",
    "\n",
    "Effet significatif de l'engrais :\n",
    "\n",
    "Toutes les statistiques (Wilks' lambda, Pillai, etc.) ont une p-value = 0.0000 (< 0.001).\n",
    "\n",
    "Conclusion : L'engrais a un effet global significatif sur les variables combinées Growth et Leaf_Area.\n",
    "\n",
    "- Wilks' lambda (0.2001) :\n",
    "\n",
    "Interprétation : Une valeur proche de 0 indique un effet fort (≈ 80% de la variance expliquée par le modèle).\n",
    "\n",
    "- Roy's greatest root (3.76) :\n",
    "\n",
    "Plus sensible aux différences unidirectionnelles (ex. une variable dépendante domine l'effet).\n",
    "\n",
    "Une valeur élevée confirme l'effet global.\n",
    "\n",
    "# Implications pratiques :\n",
    "\n",
    "Les engrais B et C influencent significativement à la fois la croissance (Growth) et la surface foliaire (Leaf_Area), comparé au groupe de référence (A).\n",
    "\n",
    "L'effet est multidimensionnel : il ne se limite pas à une seule mesure de performance des plantes.\n",
    "\n"
   ]
  },
  {
   "cell_type": "markdown",
   "id": "a5373dcf-232c-47f8-a9b8-5519d9644fdf",
   "metadata": {},
   "source": [
    "# 5. MANCOVA (Contrôle du pH du sol)\n",
    "\n",
    "Question : L'effet multivarié persiste-t-il après contrôle du pH "
   ]
  },
  {
   "cell_type": "code",
   "execution_count": 9,
   "id": "39493607-c338-46ae-af23-caafb71f7a5f",
   "metadata": {},
   "outputs": [
    {
     "name": "stdout",
     "output_type": "stream",
     "text": [
      "\n",
      "--- MANCOVA ---\n",
      "                   Multivariate linear model\n",
      "==============================================================\n",
      "                                                              \n",
      "--------------------------------------------------------------\n",
      "         Intercept        Value  Num DF  Den DF F Value Pr > F\n",
      "--------------------------------------------------------------\n",
      "            Wilks' lambda 0.9572 2.0000 55.0000  1.2288 0.3005\n",
      "           Pillai's trace 0.0428 2.0000 55.0000  1.2288 0.3005\n",
      "   Hotelling-Lawley trace 0.0447 2.0000 55.0000  1.2288 0.3005\n",
      "      Roy's greatest root 0.0447 2.0000 55.0000  1.2288 0.3005\n",
      "--------------------------------------------------------------\n",
      "                                                              \n",
      "--------------------------------------------------------------\n",
      "       Fertilizer       Value  Num DF  Den DF  F Value  Pr > F\n",
      "--------------------------------------------------------------\n",
      "          Wilks' lambda 0.1722 4.0000 110.0000  38.7663 0.0000\n",
      "         Pillai's trace 0.8547 4.0000 112.0000  20.8956 0.0000\n",
      " Hotelling-Lawley trace 4.6503 4.0000  64.9742  63.5728 0.0000\n",
      "    Roy's greatest root 4.6164 2.0000  56.0000 129.2591 0.0000\n",
      "--------------------------------------------------------------\n",
      "                                                              \n",
      "--------------------------------------------------------------\n",
      "          Soil_pH         Value  Num DF  Den DF F Value Pr > F\n",
      "--------------------------------------------------------------\n",
      "            Wilks' lambda 0.7610 2.0000 55.0000  8.6386 0.0005\n",
      "           Pillai's trace 0.2390 2.0000 55.0000  8.6386 0.0005\n",
      "   Hotelling-Lawley trace 0.3141 2.0000 55.0000  8.6386 0.0005\n",
      "      Roy's greatest root 0.3141 2.0000 55.0000  8.6386 0.0005\n",
      "==============================================================\n",
      "\n"
     ]
    }
   ],
   "source": [
    "# MANCOVA avec 'Soil_pH' comme covariable\n",
    "manova_cov = MANOVA.from_formula('Growth + Leaf_Area ~ Fertilizer + Soil_pH', data=data)\n",
    "print(\"\\n--- MANCOVA ---\\n\", manova_cov.mv_test())"
   ]
  },
  {
   "cell_type": "markdown",
   "id": "522d0caf-e3f8-42d1-9ec6-ebc2abb8640a",
   "metadata": {},
   "source": [
    "# Structure du tableau MANCOVA :\n",
    "\n",
    "Le modèle teste l'effet :\n",
    "\n",
    "Fertilizer (engrais) sur les deux variables dépendantes (Growth et Leaf_Area),\n",
    "\n",
    "Soil_pH (pH du sol) comme covariable, Tout en contrôlant l'effet de la covariable.\n",
    "\n",
    "- Résultats clés :\n",
    "\n",
    "1. Effet de l'engrais (Fertilizer) :\n",
    "\n",
    "Interprétation :\n",
    "\n",
    "p-value = 0.0000 : L'effet de l'engrais reste très significatif sur Growth et Leaf_Area après contrôle du pH du sol.\n",
    "\n",
    "Wilks' lambda = 0.17 : Effet multivarié très fort (≈ 83% de la variance expliquée par le modèle).\n",
    "\n",
    "Roy's greatest root = 4.62 : Une variable dépendante (ex. Leaf_Area) domine probablement l'effet.\n",
    "\n",
    "2. Effet du pH du sol (Soil_pH) :\n",
    "\n",
    "Interprétation :\n",
    "\n",
    "p-value = 0.0005 : Le pH du sol a un effet significatif sur les variables dépendantes combinées.\n",
    "\n",
    "Wilks' lambda = 0.76 : Effet modéré (≈ 24% de variance expliquée).\n",
    "\n",
    "Le pH influence probablement davantage Leaf_Area (lié à la simulation des données).\n",
    "\n",
    "3. Intercept (non significatif) :\n",
    "\n",
    "p-value = 0.3005 : Les moyennes globales de Growth et Leaf_Area (lorsque Soil_pH = 0) ne sont pas significativement différentes de zéro. Peu pertinent dans la plupart des études.\n",
    "\n",
    "# Implications pratiques :\n",
    "\n",
    "Engrais :\n",
    "\n",
    "Les différences entre engrais (B et C vs A) persistent même après contrôle du pH.\n",
    "\n",
    "Exemple : L'engrais C améliore à la fois la croissance et la surface foliaire, indépendamment du pH.\n",
    "\n",
    "pH du sol :\n",
    "\n",
    "Un pH plus élevé pourrait favoriser la surface foliaire (comme simulé dans vos données).\n",
    "\n",
    "À inclure systématiquement comme facteur de contrôle dans les études ultérieures."
   ]
  },
  {
   "cell_type": "markdown",
   "id": "4ddcc17a-0072-43ec-aab7-8d6589dde610",
   "metadata": {},
   "source": [
    "# 6. Vérifications des hypothèses\n",
    "\n",
    "Pour chaque modèle, vérifiez :\n",
    "\n",
    "Normalité : Test de Shapiro-Wilk sur les résidus.\n",
    "\n",
    "Homogénéité des variances : Test de Levene (ANOVA/ANCOVA).\n",
    "\n",
    "Linéarité : Graphiques des résidus."
   ]
  },
  {
   "cell_type": "markdown",
   "id": "9e498123-522f-4547-962d-d23f249a142c",
   "metadata": {},
   "source": [
    "1. Normalité des Résidus\n",
    "\n",
    "Hypothèse : Les résidus suivent une distribution normale\n",
    "\n",
    "Méthode : Test de Shapiro-Wilk\n",
    "\n",
    "- ANOVA/ANCOVA"
   ]
  },
  {
   "cell_type": "code",
   "execution_count": 14,
   "id": "e526bee0-d2c8-4e9d-9d2a-ad4a70b48378",
   "metadata": {},
   "outputs": [
    {
     "name": "stdout",
     "output_type": "stream",
     "text": [
      "Shapiro-Wilk : p = 0.5061\n",
      "Les résidus suivent une distribution normale (p > 0.05).\n"
     ]
    }
   ],
   "source": [
    "from scipy.stats import shapiro\n",
    "\n",
    "# ANOVA/ANCOVA\n",
    "residuals = model_anova.resid  # ou model_ancova.resid\n",
    "\n",
    "# Test de Shapiro-Wilk\n",
    "shapiro_stat, shapiro_p = shapiro(residuals)\n",
    "print(f\"Shapiro-Wilk : p = {shapiro_p:.4f}\")\n",
    "\n",
    "# Interprétation\n",
    "if shapiro_p > 0.05:\n",
    "    print(\"Les résidus suivent une distribution normale (p > 0.05).\")\n",
    "else:\n",
    "    print(\"Rejet de l'hypothèse de normalité (p < 0.05).\")"
   ]
  },
  {
   "cell_type": "markdown",
   "id": "8d861f80-a1c9-4170-9f2e-a5b6a48a536c",
   "metadata": {},
   "source": [
    "- Pour MANOVA/MANCOVA :\n",
    "Vérifiez la normalité par variable dépendante :"
   ]
  },
  {
   "cell_type": "code",
   "execution_count": 13,
   "id": "ac7ddf3b-e916-4e37-a6ec-2e38a291809c",
   "metadata": {},
   "outputs": [
    {
     "name": "stdout",
     "output_type": "stream",
     "text": [
      "Normalité pour Growth : p = 0.5061\n",
      "Normalité pour Leaf_Area : p = 0.0208\n"
     ]
    }
   ],
   "source": [
    "# MANOVA/MANCOVA : Vérifier chaque DV\n",
    "for dv in ['Growth', 'Leaf_Area']:\n",
    "    _, p = shapiro(data[dv] - data.groupby('Fertilizer')[dv].transform('mean'))\n",
    "    print(f\"Normalité pour {dv} : p = {p:.4f}\")"
   ]
  },
  {
   "cell_type": "markdown",
   "id": "c4f15223-e172-418a-8d15-76766612da9d",
   "metadata": {},
   "source": [
    "# 2. Homogénéité des Variances\n",
    "\n",
    "Hypothèse : Les variances sont égales entre les groupes.\n",
    "    \n",
    "Méthode : Test de Levene (ANOVA/ANCOVA) ou Box’s M (MANOVA/MANCOVA)."
   ]
  },
  {
   "cell_type": "code",
   "execution_count": 16,
   "id": "4af51f20-8834-4d3c-953b-d8c735ab3f26",
   "metadata": {},
   "outputs": [
    {
     "name": "stdout",
     "output_type": "stream",
     "text": [
      "Levene : p = 0.3423\n",
      "Variances homogènes entre les groupes.\n"
     ]
    }
   ],
   "source": [
    "from scipy.stats import levene\n",
    "\n",
    "# ANOVA/ANCOVA\n",
    "groups = [data[data['Fertilizer'] == g]['Growth'] for g in ['A', 'B', 'C']]\n",
    "levene_stat, levene_p = levene(*groups)\n",
    "print(f\"Levene : p = {levene_p:.4f}\")\n",
    "\n",
    "# Interprétation\n",
    "if levene_p > 0.05:\n",
    "    print(\"Variances homogènes entre les groupes.\")\n",
    "else:\n",
    "    print(\"Variances hétérogènes (p < 0.05).\")"
   ]
  },
  {
   "cell_type": "code",
   "execution_count": 18,
   "id": "26c4383d-740c-4304-8975-d1d72524390b",
   "metadata": {},
   "outputs": [
    {
     "name": "stdout",
     "output_type": "stream",
     "text": [
      "Collecting pingouin\n",
      "  Downloading pingouin-0.5.5-py3-none-any.whl.metadata (19 kB)\n",
      "Requirement already satisfied: matplotlib in c:\\python\\environement python\\anaconda\\lib\\site-packages (from pingouin) (3.8.4)\n",
      "Requirement already satisfied: numpy in c:\\python\\environement python\\anaconda\\lib\\site-packages (from pingouin) (1.26.4)\n",
      "Requirement already satisfied: pandas>=1.5 in c:\\python\\environement python\\anaconda\\lib\\site-packages (from pingouin) (2.2.2)\n",
      "Collecting pandas-flavor (from pingouin)\n",
      "  Downloading pandas_flavor-0.6.0-py3-none-any.whl.metadata (6.3 kB)\n",
      "Requirement already satisfied: scikit-learn>=1.2 in c:\\python\\environement python\\anaconda\\lib\\site-packages (from pingouin) (1.6.1)\n",
      "Requirement already satisfied: scipy in c:\\python\\environement python\\anaconda\\lib\\site-packages (from pingouin) (1.13.1)\n",
      "Requirement already satisfied: seaborn in c:\\python\\environement python\\anaconda\\lib\\site-packages (from pingouin) (0.13.2)\n",
      "Requirement already satisfied: statsmodels in c:\\python\\environement python\\anaconda\\lib\\site-packages (from pingouin) (0.14.2)\n",
      "Requirement already satisfied: tabulate in c:\\python\\environement python\\anaconda\\lib\\site-packages (from pingouin) (0.9.0)\n",
      "Requirement already satisfied: python-dateutil>=2.8.2 in c:\\python\\environement python\\anaconda\\lib\\site-packages (from pandas>=1.5->pingouin) (2.9.0.post0)\n",
      "Requirement already satisfied: pytz>=2020.1 in c:\\python\\environement python\\anaconda\\lib\\site-packages (from pandas>=1.5->pingouin) (2024.1)\n",
      "Requirement already satisfied: tzdata>=2022.7 in c:\\python\\environement python\\anaconda\\lib\\site-packages (from pandas>=1.5->pingouin) (2023.3)\n",
      "Requirement already satisfied: joblib>=1.2.0 in c:\\python\\environement python\\anaconda\\lib\\site-packages (from scikit-learn>=1.2->pingouin) (1.4.2)\n",
      "Requirement already satisfied: threadpoolctl>=3.1.0 in c:\\python\\environement python\\anaconda\\lib\\site-packages (from scikit-learn>=1.2->pingouin) (3.5.0)\n",
      "Requirement already satisfied: contourpy>=1.0.1 in c:\\python\\environement python\\anaconda\\lib\\site-packages (from matplotlib->pingouin) (1.2.0)\n",
      "Requirement already satisfied: cycler>=0.10 in c:\\python\\environement python\\anaconda\\lib\\site-packages (from matplotlib->pingouin) (0.11.0)\n",
      "Requirement already satisfied: fonttools>=4.22.0 in c:\\python\\environement python\\anaconda\\lib\\site-packages (from matplotlib->pingouin) (4.51.0)\n",
      "Requirement already satisfied: kiwisolver>=1.3.1 in c:\\python\\environement python\\anaconda\\lib\\site-packages (from matplotlib->pingouin) (1.4.4)\n",
      "Requirement already satisfied: packaging>=20.0 in c:\\python\\environement python\\anaconda\\lib\\site-packages (from matplotlib->pingouin) (23.2)\n",
      "Requirement already satisfied: pillow>=8 in c:\\python\\environement python\\anaconda\\lib\\site-packages (from matplotlib->pingouin) (10.3.0)\n",
      "Requirement already satisfied: pyparsing>=2.3.1 in c:\\python\\environement python\\anaconda\\lib\\site-packages (from matplotlib->pingouin) (3.0.9)\n",
      "Requirement already satisfied: xarray in c:\\python\\environement python\\anaconda\\lib\\site-packages (from pandas-flavor->pingouin) (2023.6.0)\n",
      "Requirement already satisfied: patsy>=0.5.6 in c:\\python\\environement python\\anaconda\\lib\\site-packages (from statsmodels->pingouin) (0.5.6)\n",
      "Requirement already satisfied: six in c:\\python\\environement python\\anaconda\\lib\\site-packages (from patsy>=0.5.6->statsmodels->pingouin) (1.16.0)\n",
      "Downloading pingouin-0.5.5-py3-none-any.whl (204 kB)\n",
      "   ---------------------------------------- 0.0/204.4 kB ? eta -:--:--\n",
      "   ---------------------------------------- 0.0/204.4 kB ? eta -:--:--\n",
      "   ---- ----------------------------------- 20.5/204.4 kB ? eta -:--:--\n",
      "   ------- ------------------------------- 41.0/204.4 kB 495.5 kB/s eta 0:00:01\n",
      "   --------- ----------------------------- 51.2/204.4 kB 440.4 kB/s eta 0:00:01\n",
      "   --------------- ----------------------- 81.9/204.4 kB 459.5 kB/s eta 0:00:01\n",
      "   ------------------------------ ------- 163.8/204.4 kB 704.6 kB/s eta 0:00:01\n",
      "   ------------------------------------ - 194.6/204.4 kB 695.5 kB/s eta 0:00:01\n",
      "   ------------------------------------ - 194.6/204.4 kB 695.5 kB/s eta 0:00:01\n",
      "   ------------------------------------ - 194.6/204.4 kB 695.5 kB/s eta 0:00:01\n",
      "   -------------------------------------- 204.4/204.4 kB 497.8 kB/s eta 0:00:00\n",
      "Downloading pandas_flavor-0.6.0-py3-none-any.whl (7.2 kB)\n",
      "Installing collected packages: pandas-flavor, pingouin\n",
      "Successfully installed pandas-flavor-0.6.0 pingouin-0.5.5\n",
      "Note: you may need to restart the kernel to use updated packages.\n"
     ]
    }
   ],
   "source": [
    "pip install pingouin"
   ]
  },
  {
   "cell_type": "markdown",
   "id": "601020d7-f140-4a82-bc37-8987ceec5a60",
   "metadata": {},
   "source": [
    "# 4. Absence de Multicollinéarité (MANOVA/MANCOVA)\n",
    "\n",
    "Hypothèse : Les variables dépendantes ne sont pas trop corrélées.\n",
    "    \n",
    "Méthode : Matrice de corrélation."
   ]
  },
  {
   "cell_type": "code",
   "execution_count": 26,
   "id": "b14fb679-ce1f-47e0-a59c-efea47e460d0",
   "metadata": {},
   "outputs": [
    {
     "name": "stdout",
     "output_type": "stream",
     "text": [
      "Matrice de corrélation :\n",
      "              Growth  Leaf_Area\n",
      "Growth     1.000000   0.699455\n",
      "Leaf_Area  0.699455   1.000000\n",
      "Pas de multicollinéarité forte.\n"
     ]
    }
   ],
   "source": [
    "# Corrélation entre variables dépendantes\n",
    "corr_matrix = data[['Growth', 'Leaf_Area']].corr()\n",
    "print(\"Matrice de corrélation :\\n\", corr_matrix)\n",
    "\n",
    "# Interprétation\n",
    "if abs(corr_matrix.iloc[0,1]) > 0.7:\n",
    "    print(\"Attention : Multicollinéarité détectée (> 0.7).\")\n",
    "else:\n",
    "    print(\"Pas de multicollinéarité forte.\")"
   ]
  },
  {
   "cell_type": "markdown",
   "id": "57c3e5d8-72a0-4ff8-bb01-f98d462fe087",
   "metadata": {},
   "source": [
    "# 5. Homogénéité des Pentes (ANCOVA/MANCOVA)\n",
    "\n",
    "Hypothèse : La relation entre covariables et DVs est similaire entre les groupes\n",
    "\n",
    "Méthode : Test d'interaction covariable*groupe."
   ]
  },
  {
   "cell_type": "code",
   "execution_count": 28,
   "id": "d79f4f66-a5c6-4ca1-ad66-4a4886a159f5",
   "metadata": {},
   "outputs": [
    {
     "name": "stdout",
     "output_type": "stream",
     "text": [
      "                                F        PR(>F)\n",
      "C(Fertilizer)           82.892270  3.473031e-17\n",
      "Sunlight                27.188151  2.987796e-06\n",
      "C(Fertilizer):Sunlight   1.157207  3.220351e-01\n",
      "Residual                      NaN           NaN\n",
      "Pas d'interaction significative (p > 0.05).\n"
     ]
    }
   ],
   "source": [
    "# ANCOVA : Interaction Fertilizer*Sunlight\n",
    "model_interaction = ols('Growth ~ C(Fertilizer)*Sunlight', data=data).fit()\n",
    "interaction_table = sm.stats.anova_lm(model_interaction, typ=2)\n",
    "print(interaction_table[['F', 'PR(>F)']])\n",
    "\n",
    "# Interprétation\n",
    "p_interaction = interaction_table.loc['C(Fertilizer):Sunlight', 'PR(>F)']\n",
    "if p_interaction > 0.05:\n",
    "    print(\"Pas d'interaction significative (p > 0.05).\")\n",
    "else:\n",
    "    print(\"Interaction significative : les pentes ne sont pas homogènes.\")"
   ]
  },
  {
   "cell_type": "markdown",
   "id": "26fb84c9-7590-4ad4-9a47-a621c23d7ebf",
   "metadata": {},
   "source": [
    "# Interprétation des résultats :\n",
    "\n",
    "Effet principal de Fertilizer (Engrais)\n",
    "\n",
    "F = 82.89, p < 0.001 (3.47e-17)\n",
    "L'effet de Fertilizer sur la croissance (Growth) est très significatif, ce qui signifie que différents types d'engrais influencent significativement la croissance des plantes.\n",
    "Effet principal de Sunlight (Lumière solaire)\n",
    "\n",
    "F = 27.19, p < 0.001 (2.99e-06)\n",
    "La quantité de lumière solaire a également un effet très significatif sur la croissance.\n",
    "Interaction entre Fertilizer et Sunlight\n",
    "\n",
    "F = 1.16, p = 0.322\n",
    "p > 0.05, donc l'effet de Fertilizer ne varie pas significativement en fonction de Sunlight.\n",
    "\n",
    " Conclusion : Il n'y a pas d'interaction significative, donc l'effet de l'engrais est indépendant de l'effet de la lumière."
   ]
  },
  {
   "cell_type": "code",
   "execution_count": 30,
   "id": "5eeb2527-c164-4e5c-8dc1-55ff2e6a99a5",
   "metadata": {},
   "outputs": [
    {
     "name": "stdout",
     "output_type": "stream",
     "text": [
      "+--------------+------------------------------+------------------------+--------------------------------+\n",
      "| Modèle       | Hypothèse                    | Test/Graphique         | Solution si violation          |\n",
      "+==============+==============================+========================+================================+\n",
      "| ANOVA/ANCOVA | Normalité                    | Shapiro-Wilk           | Transformation des données     |\n",
      "+--------------+------------------------------+------------------------+--------------------------------+\n",
      "| ANOVA/ANCOVA | Homogénéité des variances    | Levene                 | Welch ANOVA                    |\n",
      "+--------------+------------------------------+------------------------+--------------------------------+\n",
      "| ANCOVA       | Linéarité                    | Résidus vs prédictions | Modèle non linéaire            |\n",
      "+--------------+------------------------------+------------------------+--------------------------------+\n",
      "| MANOVA       | Homogénéité des covariances  | Box’s M                | MANOVA robuste (ex. Pillai)    |\n",
      "+--------------+------------------------------+------------------------+--------------------------------+\n",
      "| MANCOVA      | Absence de multicollinéarité | Matrice de corrélation | Suppression de variables liées |\n",
      "+--------------+------------------------------+------------------------+--------------------------------+\n"
     ]
    }
   ],
   "source": [
    "from tabulate import tabulate\n",
    "\n",
    "# Données sous forme de liste\n",
    "table = [\n",
    "    [\"ANOVA/ANCOVA\", \"Normalité\", \"Shapiro-Wilk\", \"Transformation des données\"],\n",
    "    [\"ANOVA/ANCOVA\", \"Homogénéité des variances\", \"Levene\", \"Welch ANOVA\"],\n",
    "    [\"ANCOVA\", \"Linéarité\", \"Résidus vs prédictions\", \"Modèle non linéaire\"],\n",
    "    [\"MANOVA\", \"Homogénéité des covariances\", \"Box’s M\", \"MANOVA robuste (ex. Pillai)\"],\n",
    "    [\"MANCOVA\", \"Absence de multicollinéarité\", \"Matrice de corrélation\", \"Suppression de variables liées\"]\n",
    "]\n",
    "\n",
    "# Affichage sous forme de tableau\n",
    "print(tabulate(table, headers=[\"Modèle\", \"Hypothèse\", \"Test/Graphique\", \"Solution si violation\"], tablefmt=\"grid\"))\n"
   ]
  },
  {
   "cell_type": "code",
   "execution_count": null,
   "id": "bb7ee991-b2f9-4038-a09c-7d076054e663",
   "metadata": {},
   "outputs": [],
   "source": []
  }
 ],
 "metadata": {
  "kernelspec": {
   "display_name": "Python 3 (ipykernel)",
   "language": "python",
   "name": "python3"
  },
  "language_info": {
   "codemirror_mode": {
    "name": "ipython",
    "version": 3
   },
   "file_extension": ".py",
   "mimetype": "text/x-python",
   "name": "python",
   "nbconvert_exporter": "python",
   "pygments_lexer": "ipython3",
   "version": "3.12.4"
  }
 },
 "nbformat": 4,
 "nbformat_minor": 5
}
